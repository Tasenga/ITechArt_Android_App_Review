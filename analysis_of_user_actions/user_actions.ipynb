{
 "cells": [
  {
   "cell_type": "code",
   "execution_count": null,
   "metadata": {},
   "outputs": [],
   "source": [
    "import pandas as pd\n",
    "import numpy as np\n",
    "from matplotlib import pyplot as plt\n",
    "from matplotlib import rc\n",
    "from matplotlib.ticker import StrMethodFormatter, FuncFormatter\n",
    "from datetime import timedelta\n",
    "import re "
   ]
  },
  {
   "cell_type": "code",
   "execution_count": null,
   "metadata": {},
   "outputs": [],
   "source": [
    "user_actions = pd.read_csv('user_actions.csv', dtype={'message': str},\n",
    "    parse_dates=['createdDateTime'])\n",
    "user_actions"
   ]
  },
  {
   "cell_type": "markdown",
   "metadata": {},
   "source": [
    "# DATA PREPARATION TO ANALYZE"
   ]
  },
  {
   "cell_type": "markdown",
   "metadata": {},
   "source": [
    "## start preparation"
   ]
  },
  {
   "cell_type": "code",
   "execution_count": null,
   "metadata": {},
   "outputs": [],
   "source": [
    "def parse_msg(msg):\n",
    "    return re.findall(r'\\[(.*?)\\]', msg)"
   ]
  },
  {
   "cell_type": "code",
   "execution_count": null,
   "metadata": {},
   "outputs": [],
   "source": [
    "def process_table(base, type_msg):\n",
    "    drop = base[base['message'].apply(lambda x: not x.startswith(type_msg))].index\n",
    "    new_table = base.drop(drop).loc[:,['actionId', 'createdDateTime', 'message']]\n",
    "    new_table['action'] = new_table.apply(lambda x: parse_msg(x['message'])[1], axis=1)\n",
    "    new_table['msg'] = new_table.apply(lambda x: parse_msg(x['message'])[2], axis=1)\n",
    "    new_table.drop(columns='message', inplace=True)\n",
    "    return new_table"
   ]
  },
  {
   "cell_type": "code",
   "execution_count": null,
   "metadata": {},
   "outputs": [],
   "source": [
    "table_of_start_action = process_table(user_actions, '[START]')\n",
    "table_of_start_action"
   ]
  },
  {
   "cell_type": "code",
   "execution_count": null,
   "metadata": {},
   "outputs": [],
   "source": [
    "table_of_end_action = process_table(user_actions, '[END]')\n",
    "table_of_end_action"
   ]
  },
  {
   "cell_type": "code",
   "execution_count": null,
   "metadata": {},
   "outputs": [],
   "source": [
    "processed_data = table_of_start_action.set_index(['actionId', 'action'])\\\n",
    "    .join(table_of_end_action.set_index(['actionId', 'action']), \n",
    "          lsuffix='_start', \n",
    "          rsuffix='_end',\n",
    "          how='outer').reset_index()"
   ]
  },
  {
   "cell_type": "markdown",
   "metadata": {},
   "source": [
    "## Retrieving Data That Cannot Be Processed"
   ]
  },
  {
   "cell_type": "code",
   "execution_count": null,
   "metadata": {},
   "outputs": [],
   "source": [
    "processed_data[processed_data.isnull().any(axis=1)]"
   ]
  },
  {
   "cell_type": "code",
   "execution_count": null,
   "metadata": {},
   "outputs": [],
   "source": [
    "processed_data[processed_data.isnull().any(axis=1)].count()"
   ]
  },
  {
   "cell_type": "code",
   "execution_count": null,
   "metadata": {},
   "outputs": [],
   "source": [
    "processed_data.drop((processed_data[processed_data.isnull().any(axis=1)]).index, inplace=True)"
   ]
  },
  {
   "cell_type": "markdown",
   "metadata": {},
   "source": [
    "## сontinued preparation"
   ]
  },
  {
   "cell_type": "code",
   "execution_count": null,
   "metadata": {},
   "outputs": [],
   "source": [
    "def parse_io_result(msg):\n",
    "    return re.findall(r'\\d+', msg)"
   ]
  },
  {
   "cell_type": "code",
   "execution_count": null,
   "metadata": {},
   "outputs": [],
   "source": [
    "processed_data['duration'] = processed_data.apply(\n",
    "    lambda x: (x['createdDateTime_end'] - x['createdDateTime_start']), axis = 1)\n",
    "processed_data.drop(columns='createdDateTime_end', inplace=True)"
   ]
  },
  {
   "cell_type": "code",
   "execution_count": null,
   "metadata": {},
   "outputs": [],
   "source": [
    "processed_data['input_data'] = processed_data.apply(lambda x: parse_io_result(x['msg_start'])[0] \n",
    "                                                 if x['action'] != 'SEARCH' else '-', axis=1)\n",
    "processed_data.drop(columns='msg_start', inplace=True)"
   ]
  },
  {
   "cell_type": "code",
   "execution_count": null,
   "metadata": {},
   "outputs": [],
   "source": [
    "processed_data['success'] = processed_data.apply(lambda x: parse_io_result(x['msg_end'])[0] \n",
    "                                                 if x['action'] != 'SEARCH' else '-', axis=1)\n",
    "processed_data['warning'] = processed_data.apply(lambda x: parse_io_result(x['msg_end'])[1]\n",
    "                                                 if x['action'] != 'SEARCH' else '-', axis=1)\n",
    "processed_data['failed'] = processed_data.apply(lambda x: parse_io_result(x['msg_end'])[2]\n",
    "                                                if x['action'] != 'SEARCH' else '-', axis=1)\n",
    "processed_data.drop(columns='msg_end', inplace=True)"
   ]
  },
  {
   "cell_type": "code",
   "execution_count": null,
   "metadata": {},
   "outputs": [],
   "source": [
    "processed_data"
   ]
  },
  {
   "cell_type": "markdown",
   "metadata": {},
   "source": [
    "# TASK"
   ]
  },
  {
   "cell_type": "markdown",
   "metadata": {},
   "source": [
    "## Percentage of operations (pie chart)"
   ]
  },
  {
   "cell_type": "code",
   "execution_count": null,
   "metadata": {},
   "outputs": [],
   "source": [
    "actions = processed_data.groupby('action').size()\n",
    "actions"
   ]
  },
  {
   "cell_type": "code",
   "execution_count": null,
   "metadata": {},
   "outputs": [],
   "source": [
    "fig, ax = plt.subplots()\n",
    "ax.pie(actions, labels=actions.index, autopct='%.0f%%', shadow=True, radius=0.5)\n",
    "ax.axis('equal')\n",
    "plt.show()"
   ]
  },
  {
   "cell_type": "markdown",
   "metadata": {},
   "source": [
    "## The total number of operations by weeks"
   ]
  },
  {
   "cell_type": "code",
   "execution_count": null,
   "metadata": {},
   "outputs": [],
   "source": [
    "actions_by_weeks = processed_data.groupby(processed_data['createdDateTime_start'].dt.week).size()\n",
    "actions_by_weeks"
   ]
  },
  {
   "cell_type": "code",
   "execution_count": null,
   "metadata": {},
   "outputs": [],
   "source": [
    "ax = actions_by_weeks.plot(x='createdDateTime_start', kind='bar', legend=False, figsize=(20,5))\n",
    "ax.set_xlabel(\"weeks\")\n",
    "ax.set_ylabel(\"num_actions\")"
   ]
  },
  {
   "cell_type": "markdown",
   "metadata": {},
   "source": [
    "## Top 10 most lengthy searching operations indicating time spent"
   ]
  },
  {
   "cell_type": "code",
   "execution_count": null,
   "metadata": {},
   "outputs": [],
   "source": [
    "drop = processed_data[processed_data['action'].apply(lambda x: x != 'SEARCH')].index\n",
    "srch_act = processed_data.drop(drop).loc[:,['actionId', 'action', 'duration']]\\\n",
    "                        .sort_values(['duration'], ascending=False)[:10]\n",
    "srch_act"
   ]
  },
  {
   "cell_type": "markdown",
   "metadata": {},
   "source": [
    "## A histogram of input data for each operation"
   ]
  },
  {
   "cell_type": "code",
   "execution_count": null,
   "metadata": {},
   "outputs": [],
   "source": [
    "drop = processed_data[processed_data['action'].apply(lambda x: x == 'SEARCH')].index\n",
    "inp_for_act = processed_data\\\n",
    "                .sort_values(['createdDateTime_start'])\\\n",
    "                .drop(drop)\\\n",
    "                .loc[:,['action', \n",
    "                        'createdDateTime_start',\n",
    "                        'duration','input_data', \n",
    "                        'success', \n",
    "                        'warning', \n",
    "                        'failed']]\n",
    "inp_for_act['input_data'] = inp_for_act['input_data'].astype('int')\n",
    "inp_for_act['success'] = inp_for_act['success'].astype('int')\n",
    "inp_for_act['warning'] = inp_for_act['warning'].astype('int')\n",
    "inp_for_act['failed'] = inp_for_act['failed'].astype('int')\n",
    "inp_for_act"
   ]
  },
  {
   "cell_type": "code",
   "execution_count": null,
   "metadata": {},
   "outputs": [],
   "source": [
    "_, axes = plt.subplots(5, 1, figsize=(20,20), dpi=100, sharex=True, sharey=True)\n",
    "colors = ['tab:red', 'tab:blue', 'tab:green', 'tab:pink', 'tab:olive']\n",
    "\n",
    "for i, (ax, action) in enumerate(zip(axes.flatten(), inp_for_act.action.unique())):\n",
    "    y = inp_for_act.loc[inp_for_act.action==action, 'input_data']\n",
    "    x = inp_for_act.loc[inp_for_act.action==action, 'createdDateTime_start']\n",
    "    ax.bar(x=x, height=y, alpha=1, label=str(action), color=colors[i])\n",
    "    ax.set_xticklabels([])\n",
    "    ax.set_title(action) \n",
    "    \n",
    "plt.suptitle('Number of input data for each operation', y=0.93, size=16)\n"
   ]
  },
  {
   "cell_type": "markdown",
   "metadata": {},
   "source": [
    "## Graph of the number of successful, conditionally successful (warning) and unsuccessful results"
   ]
  },
  {
   "cell_type": "code",
   "execution_count": null,
   "metadata": {},
   "outputs": [],
   "source": [
    "_, axes = plt.subplots(5, 1, figsize=(20,30), dpi=100)\n",
    "rc('ytick', labelsize=16)\n",
    "\n",
    "for i, (ax, action) in enumerate(zip(axes.flatten(), inp_for_act.action.unique())):\n",
    "    datetime = inp_for_act.loc[inp_for_act.action==action, 'createdDateTime_start']\n",
    "    success = inp_for_act.loc[inp_for_act.action==action, 'success']\n",
    "    warning = inp_for_act.loc[inp_for_act.action==action, 'warning']\n",
    "    failed = inp_for_act.loc[inp_for_act.action==action, 'failed']\n",
    "    ax.bar(x=datetime, height=success, color='g')\n",
    "    ax.bar(x=datetime, height=warning, color='y')\n",
    "    ax.bar(x=datetime, height=failed, color='r')\n",
    "    ax.legend(('success', 'warning', 'failed'), prop={'size': 16})\n",
    "    ax.set_ylabel('num_results', fontsize=16)\n",
    "    ax.set_xticklabels([])\n",
    "    ax.set_title(action) \n",
    "\n",
    "plt.suptitle('Successful, conditionally successful (warning) and unsuccessful results', y=0.9, size=16)\n",
    "plt.show()\n"
   ]
  },
  {
   "cell_type": "markdown",
   "metadata": {},
   "source": [
    "## Dependence of the time spent on the amount of input data"
   ]
  },
  {
   "cell_type": "code",
   "execution_count": null,
   "metadata": {},
   "outputs": [],
   "source": [
    "_, ax = plt.subplots(figsize=(20,15))\n",
    "colors = ['tab:red', 'tab:blue', 'tab:green', 'tab:pink', 'tab:olive']\n",
    "\n",
    "def timeTicks(x, pos):                                                                                                                                                                                                                                                                                                                                                                                                                                                                                                 \n",
    "    return str(timedelta(seconds=x))                                                                                                                                                                                                                                                              \n",
    "\n",
    "\n",
    "for i, action in enumerate(inp_for_act.action.unique()):\n",
    "    x = inp_for_act.loc[inp_for_act.action==action, 'duration'].astype('timedelta64[s]')\n",
    "    y = inp_for_act.loc[inp_for_act.action==action, 'input_data']\n",
    "    ax.scatter(x, y, alpha=0.5, label=str(action), color=colors[i])\n",
    "    formatter = FuncFormatter(timeTicks)                                                                                                                                                                                                                         \n",
    "    ax.xaxis.set_major_formatter(formatter)   \n",
    "    \n",
    "ax.legend()\n",
    "plt.suptitle('Number of input data for each operation', y=0.93, size=16)\n"
   ]
  }
 ],
 "metadata": {
  "kernelspec": {
   "display_name": "Python 3",
   "language": "python",
   "name": "python3"
  },
  "language_info": {
   "codemirror_mode": {
    "name": "ipython",
    "version": 3
   },
   "file_extension": ".py",
   "mimetype": "text/x-python",
   "name": "python",
   "nbconvert_exporter": "python",
   "pygments_lexer": "ipython3",
   "version": "3.7.4"
  }
 },
 "nbformat": 4,
 "nbformat_minor": 4
}
