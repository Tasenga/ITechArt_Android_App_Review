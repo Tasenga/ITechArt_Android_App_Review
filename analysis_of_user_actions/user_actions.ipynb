{
 "cells": [
  {
   "cell_type": "code",
   "execution_count": 1,
   "metadata": {},
   "outputs": [],
   "source": [
    "import pandas as pd\n",
    "import numpy as np\n",
    "from matplotlib import pyplot as plt\n",
    "from matplotlib import rc\n",
    "from matplotlib.ticker import StrMethodFormatter, FuncFormatter\n",
    "from datetime import timedelta\n",
    "import re "
   ]
  },
  {
   "cell_type": "markdown",
   "metadata": {},
   "source": [
    "# DATA PREPARATION TO ANALYZE"
   ]
  },
  {
   "cell_type": "code",
   "execution_count": 2,
   "metadata": {},
   "outputs": [],
   "source": [
    "def parse_row(row):\n",
    "    state, user_action, msg  = re.findall(r'\\[(.*?)\\]', row.message)\n",
    "    return pd.Series ({\n",
    "        'actionID': row.actionId,\n",
    "        'action': user_action,\n",
    "        'state': state,\n",
    "        'time': row.createdDateTime,\n",
    "        'msg': msg\n",
    "    })"
   ]
  },
  {
   "cell_type": "code",
   "execution_count": 3,
   "metadata": {},
   "outputs": [],
   "source": [
    "def collapse(group: pd.DataFrame):\n",
    "    actionId, user_action, is_start, time_start, msg_start = group.iloc[0]\n",
    "    _, _, is_end, time_end, msg_end = group.iloc[1] if group.index.size == 2 else (None, None, None, None, None)\n",
    "    if is_start != 'START': #swap_values\n",
    "        msg_start, msg_end = msg_end, msg_start\n",
    "        time_start, time_end = time_end, time_start\n",
    "    def parse_msg(msg, user_action=user_action):\n",
    "        return re.findall(r'\\d+', msg) if msg and user_action != 'SEARCH' else [0,0,0]\n",
    "    return pd.Series({\n",
    "        'started_at': time_start,\n",
    "        'week': time_start.week if time_start else None,\n",
    "        'duration': time_end - time_start if time_end and time_start else None,\n",
    "        'num_records': int(parse_msg(msg_start)[0]),\n",
    "        'num_success': int(parse_msg(msg_end)[0]),\n",
    "        'num_failed': int(parse_msg(msg_end)[1]),\n",
    "        'num_warning': int(parse_msg(msg_end)[2])\n",
    "    })"
   ]
  },
  {
   "cell_type": "code",
   "execution_count": 4,
   "metadata": {
    "scrolled": false
   },
   "outputs": [
    {
     "data": {
      "text/html": [
       "<div>\n",
       "<style scoped>\n",
       "    .dataframe tbody tr th:only-of-type {\n",
       "        vertical-align: middle;\n",
       "    }\n",
       "\n",
       "    .dataframe tbody tr th {\n",
       "        vertical-align: top;\n",
       "    }\n",
       "\n",
       "    .dataframe thead th {\n",
       "        text-align: right;\n",
       "    }\n",
       "</style>\n",
       "<table border=\"1\" class=\"dataframe\">\n",
       "  <thead>\n",
       "    <tr style=\"text-align: right;\">\n",
       "      <th></th>\n",
       "      <th>actionID</th>\n",
       "      <th>action</th>\n",
       "      <th>started_at</th>\n",
       "      <th>week</th>\n",
       "      <th>duration</th>\n",
       "      <th>num_records</th>\n",
       "      <th>num_success</th>\n",
       "      <th>num_failed</th>\n",
       "      <th>num_warning</th>\n",
       "    </tr>\n",
       "  </thead>\n",
       "  <tbody>\n",
       "    <tr>\n",
       "      <th>0</th>\n",
       "      <td>0007077a-5d0f-49a4-91d6-0b8dc32837c6</td>\n",
       "      <td>IMPORT</td>\n",
       "      <td>2019-12-23 11:33:00</td>\n",
       "      <td>52.0</td>\n",
       "      <td>00:06:24</td>\n",
       "      <td>523.0</td>\n",
       "      <td>246.0</td>\n",
       "      <td>25.0</td>\n",
       "      <td>252.0</td>\n",
       "    </tr>\n",
       "    <tr>\n",
       "      <th>1</th>\n",
       "      <td>000b03f4-afd8-4371-b79e-2891d5388181</td>\n",
       "      <td>UPDATE</td>\n",
       "      <td>2019-12-23 14:11:00</td>\n",
       "      <td>52.0</td>\n",
       "      <td>00:00:02</td>\n",
       "      <td>986.0</td>\n",
       "      <td>898.0</td>\n",
       "      <td>29.0</td>\n",
       "      <td>59.0</td>\n",
       "    </tr>\n",
       "    <tr>\n",
       "      <th>2</th>\n",
       "      <td>000b147d-1d2e-41a6-8ab6-d8888c50e12a</td>\n",
       "      <td>APPROVE</td>\n",
       "      <td>2019-07-28 09:04:00</td>\n",
       "      <td>30.0</td>\n",
       "      <td>00:02:37</td>\n",
       "      <td>453.0</td>\n",
       "      <td>145.0</td>\n",
       "      <td>213.0</td>\n",
       "      <td>95.0</td>\n",
       "    </tr>\n",
       "    <tr>\n",
       "      <th>3</th>\n",
       "      <td>002e3d10-33e4-45aa-b882-0d8fab4c5819</td>\n",
       "      <td>APPROVE</td>\n",
       "      <td>2019-03-18 15:40:00</td>\n",
       "      <td>12.0</td>\n",
       "      <td>00:07:54</td>\n",
       "      <td>531.0</td>\n",
       "      <td>378.0</td>\n",
       "      <td>116.0</td>\n",
       "      <td>37.0</td>\n",
       "    </tr>\n",
       "    <tr>\n",
       "      <th>4</th>\n",
       "      <td>0031390e-202f-447f-9de0-044851d7e78a</td>\n",
       "      <td>IMPORT</td>\n",
       "      <td>2019-09-27 16:10:00</td>\n",
       "      <td>39.0</td>\n",
       "      <td>00:00:02</td>\n",
       "      <td>499.0</td>\n",
       "      <td>222.0</td>\n",
       "      <td>194.0</td>\n",
       "      <td>83.0</td>\n",
       "    </tr>\n",
       "    <tr>\n",
       "      <th>...</th>\n",
       "      <td>...</td>\n",
       "      <td>...</td>\n",
       "      <td>...</td>\n",
       "      <td>...</td>\n",
       "      <td>...</td>\n",
       "      <td>...</td>\n",
       "      <td>...</td>\n",
       "      <td>...</td>\n",
       "      <td>...</td>\n",
       "    </tr>\n",
       "    <tr>\n",
       "      <th>9960</th>\n",
       "      <td>ffc91ee2-58c3-4536-a400-3e6c640ebc19</td>\n",
       "      <td>IMPORT</td>\n",
       "      <td>2019-06-13 11:06:00</td>\n",
       "      <td>24.0</td>\n",
       "      <td>00:13:40</td>\n",
       "      <td>971.0</td>\n",
       "      <td>290.0</td>\n",
       "      <td>485.0</td>\n",
       "      <td>196.0</td>\n",
       "    </tr>\n",
       "    <tr>\n",
       "      <th>9961</th>\n",
       "      <td>ffca0806-1c02-41e9-bdd2-87cdefe34410</td>\n",
       "      <td>IMPORT</td>\n",
       "      <td>2019-10-07 14:55:00</td>\n",
       "      <td>41.0</td>\n",
       "      <td>00:07:25</td>\n",
       "      <td>973.0</td>\n",
       "      <td>733.0</td>\n",
       "      <td>23.0</td>\n",
       "      <td>217.0</td>\n",
       "    </tr>\n",
       "    <tr>\n",
       "      <th>9962</th>\n",
       "      <td>ffd124b1-0bfe-4d49-921f-d0be2e4eddcc</td>\n",
       "      <td>APPROVE</td>\n",
       "      <td>2019-07-03 15:06:00</td>\n",
       "      <td>27.0</td>\n",
       "      <td>00:01:27</td>\n",
       "      <td>684.0</td>\n",
       "      <td>41.0</td>\n",
       "      <td>66.0</td>\n",
       "      <td>577.0</td>\n",
       "    </tr>\n",
       "    <tr>\n",
       "      <th>9963</th>\n",
       "      <td>ffe97f16-7bc5-438f-81e8-f90ba981dfe4</td>\n",
       "      <td>CREATE</td>\n",
       "      <td>2019-10-10 14:25:00</td>\n",
       "      <td>41.0</td>\n",
       "      <td>00:03:21</td>\n",
       "      <td>273.0</td>\n",
       "      <td>139.0</td>\n",
       "      <td>124.0</td>\n",
       "      <td>10.0</td>\n",
       "    </tr>\n",
       "    <tr>\n",
       "      <th>9964</th>\n",
       "      <td>fffe6f48-5873-444e-80b0-42d4bb8f2b03</td>\n",
       "      <td>SEARCH</td>\n",
       "      <td>2019-06-04 14:04:00</td>\n",
       "      <td>23.0</td>\n",
       "      <td>00:06:06</td>\n",
       "      <td>0.0</td>\n",
       "      <td>0.0</td>\n",
       "      <td>0.0</td>\n",
       "      <td>0.0</td>\n",
       "    </tr>\n",
       "  </tbody>\n",
       "</table>\n",
       "<p>9965 rows × 9 columns</p>\n",
       "</div>"
      ],
      "text/plain": [
       "                                  actionID   action          started_at  week  \\\n",
       "0     0007077a-5d0f-49a4-91d6-0b8dc32837c6   IMPORT 2019-12-23 11:33:00  52.0   \n",
       "1     000b03f4-afd8-4371-b79e-2891d5388181   UPDATE 2019-12-23 14:11:00  52.0   \n",
       "2     000b147d-1d2e-41a6-8ab6-d8888c50e12a  APPROVE 2019-07-28 09:04:00  30.0   \n",
       "3     002e3d10-33e4-45aa-b882-0d8fab4c5819  APPROVE 2019-03-18 15:40:00  12.0   \n",
       "4     0031390e-202f-447f-9de0-044851d7e78a   IMPORT 2019-09-27 16:10:00  39.0   \n",
       "...                                    ...      ...                 ...   ...   \n",
       "9960  ffc91ee2-58c3-4536-a400-3e6c640ebc19   IMPORT 2019-06-13 11:06:00  24.0   \n",
       "9961  ffca0806-1c02-41e9-bdd2-87cdefe34410   IMPORT 2019-10-07 14:55:00  41.0   \n",
       "9962  ffd124b1-0bfe-4d49-921f-d0be2e4eddcc  APPROVE 2019-07-03 15:06:00  27.0   \n",
       "9963  ffe97f16-7bc5-438f-81e8-f90ba981dfe4   CREATE 2019-10-10 14:25:00  41.0   \n",
       "9964  fffe6f48-5873-444e-80b0-42d4bb8f2b03   SEARCH 2019-06-04 14:04:00  23.0   \n",
       "\n",
       "     duration  num_records  num_success  num_failed  num_warning  \n",
       "0    00:06:24        523.0        246.0        25.0        252.0  \n",
       "1    00:00:02        986.0        898.0        29.0         59.0  \n",
       "2    00:02:37        453.0        145.0       213.0         95.0  \n",
       "3    00:07:54        531.0        378.0       116.0         37.0  \n",
       "4    00:00:02        499.0        222.0       194.0         83.0  \n",
       "...       ...          ...          ...         ...          ...  \n",
       "9960 00:13:40        971.0        290.0       485.0        196.0  \n",
       "9961 00:07:25        973.0        733.0        23.0        217.0  \n",
       "9962 00:01:27        684.0         41.0        66.0        577.0  \n",
       "9963 00:03:21        273.0        139.0       124.0         10.0  \n",
       "9964 00:06:06          0.0          0.0         0.0          0.0  \n",
       "\n",
       "[9965 rows x 9 columns]"
      ]
     },
     "execution_count": 4,
     "metadata": {},
     "output_type": "execute_result"
    }
   ],
   "source": [
    "user_actions=pd.read_csv('user_actions.csv', \n",
    "                         usecols = lambda col : col != \"currentUser\", \n",
    "                         dtype={'message': str}, \n",
    "                         parse_dates=['createdDateTime'])\\\n",
    "                .apply(parse_row, axis=1)\\\n",
    "                .groupby(['actionID', 'action'])\\\n",
    "                .apply(collapse)\\\n",
    "                .reset_index()\n",
    "\n",
    "user_actions"
   ]
  },
  {
   "cell_type": "markdown",
   "metadata": {},
   "source": [
    "## Retrieving Data That Cannot Be Processed"
   ]
  },
  {
   "cell_type": "code",
   "execution_count": 5,
   "metadata": {},
   "outputs": [
    {
     "data": {
      "text/html": [
       "<div>\n",
       "<style scoped>\n",
       "    .dataframe tbody tr th:only-of-type {\n",
       "        vertical-align: middle;\n",
       "    }\n",
       "\n",
       "    .dataframe tbody tr th {\n",
       "        vertical-align: top;\n",
       "    }\n",
       "\n",
       "    .dataframe thead th {\n",
       "        text-align: right;\n",
       "    }\n",
       "</style>\n",
       "<table border=\"1\" class=\"dataframe\">\n",
       "  <thead>\n",
       "    <tr style=\"text-align: right;\">\n",
       "      <th></th>\n",
       "      <th>actionID</th>\n",
       "      <th>action</th>\n",
       "      <th>started_at</th>\n",
       "      <th>week</th>\n",
       "      <th>duration</th>\n",
       "      <th>num_records</th>\n",
       "      <th>num_success</th>\n",
       "      <th>num_failed</th>\n",
       "      <th>num_warning</th>\n",
       "    </tr>\n",
       "  </thead>\n",
       "  <tbody>\n",
       "    <tr>\n",
       "      <th>37</th>\n",
       "      <td>00facaaa-b571-4ba1-b9d8-f3e5ad78d94f</td>\n",
       "      <td>DELETE</td>\n",
       "      <td>NaT</td>\n",
       "      <td>NaN</td>\n",
       "      <td>NaT</td>\n",
       "      <td>0.0</td>\n",
       "      <td>474.0</td>\n",
       "      <td>187.0</td>\n",
       "      <td>124.0</td>\n",
       "    </tr>\n",
       "    <tr>\n",
       "      <th>55</th>\n",
       "      <td>0174104b-ba8e-41eb-a1e1-7defa60ad3b1</td>\n",
       "      <td>IMPORT</td>\n",
       "      <td>2019-06-05 16:15:00</td>\n",
       "      <td>23.0</td>\n",
       "      <td>NaT</td>\n",
       "      <td>967.0</td>\n",
       "      <td>0.0</td>\n",
       "      <td>0.0</td>\n",
       "      <td>0.0</td>\n",
       "    </tr>\n",
       "    <tr>\n",
       "      <th>75</th>\n",
       "      <td>025747c6-16cc-4101-9456-0c3ad8412d84</td>\n",
       "      <td>IMPORT</td>\n",
       "      <td>2019-07-05 13:09:00</td>\n",
       "      <td>27.0</td>\n",
       "      <td>NaT</td>\n",
       "      <td>55.0</td>\n",
       "      <td>0.0</td>\n",
       "      <td>0.0</td>\n",
       "      <td>0.0</td>\n",
       "    </tr>\n",
       "    <tr>\n",
       "      <th>81</th>\n",
       "      <td>0282cb45-a71a-445f-82ac-766637f143c8</td>\n",
       "      <td>APPROVE</td>\n",
       "      <td>NaT</td>\n",
       "      <td>NaN</td>\n",
       "      <td>NaT</td>\n",
       "      <td>0.0</td>\n",
       "      <td>485.0</td>\n",
       "      <td>124.0</td>\n",
       "      <td>213.0</td>\n",
       "    </tr>\n",
       "    <tr>\n",
       "      <th>86</th>\n",
       "      <td>029a3fd3-e2d3-4b66-9e64-bd08f5c0ece6</td>\n",
       "      <td>CREATE</td>\n",
       "      <td>NaT</td>\n",
       "      <td>NaN</td>\n",
       "      <td>NaT</td>\n",
       "      <td>0.0</td>\n",
       "      <td>221.0</td>\n",
       "      <td>64.0</td>\n",
       "      <td>190.0</td>\n",
       "    </tr>\n",
       "    <tr>\n",
       "      <th>...</th>\n",
       "      <td>...</td>\n",
       "      <td>...</td>\n",
       "      <td>...</td>\n",
       "      <td>...</td>\n",
       "      <td>...</td>\n",
       "      <td>...</td>\n",
       "      <td>...</td>\n",
       "      <td>...</td>\n",
       "      <td>...</td>\n",
       "    </tr>\n",
       "    <tr>\n",
       "      <th>9910</th>\n",
       "      <td>fe8c6bd0-6e5c-4861-ad89-19f2f5df4de4</td>\n",
       "      <td>SEARCH</td>\n",
       "      <td>NaT</td>\n",
       "      <td>NaN</td>\n",
       "      <td>NaT</td>\n",
       "      <td>0.0</td>\n",
       "      <td>0.0</td>\n",
       "      <td>0.0</td>\n",
       "      <td>0.0</td>\n",
       "    </tr>\n",
       "    <tr>\n",
       "      <th>9916</th>\n",
       "      <td>fea836f9-4d24-41ab-a696-ee06b1ac92f3</td>\n",
       "      <td>APPROVE</td>\n",
       "      <td>2019-10-14 08:26:00</td>\n",
       "      <td>42.0</td>\n",
       "      <td>NaT</td>\n",
       "      <td>276.0</td>\n",
       "      <td>0.0</td>\n",
       "      <td>0.0</td>\n",
       "      <td>0.0</td>\n",
       "    </tr>\n",
       "    <tr>\n",
       "      <th>9925</th>\n",
       "      <td>fedf7a72-6504-4a1c-a9be-ccced3850b2c</td>\n",
       "      <td>SEARCH</td>\n",
       "      <td>2019-06-15 12:17:00</td>\n",
       "      <td>24.0</td>\n",
       "      <td>NaT</td>\n",
       "      <td>0.0</td>\n",
       "      <td>0.0</td>\n",
       "      <td>0.0</td>\n",
       "      <td>0.0</td>\n",
       "    </tr>\n",
       "    <tr>\n",
       "      <th>9930</th>\n",
       "      <td>fef88e3a-5e8a-48f8-8380-3daa888666eb</td>\n",
       "      <td>CREATE</td>\n",
       "      <td>NaT</td>\n",
       "      <td>NaN</td>\n",
       "      <td>NaT</td>\n",
       "      <td>0.0</td>\n",
       "      <td>54.0</td>\n",
       "      <td>307.0</td>\n",
       "      <td>137.0</td>\n",
       "    </tr>\n",
       "    <tr>\n",
       "      <th>9939</th>\n",
       "      <td>ff4bc885-4bb8-4103-a5d8-dc11a3bd9a35</td>\n",
       "      <td>UPDATE</td>\n",
       "      <td>2019-12-26 14:26:00</td>\n",
       "      <td>52.0</td>\n",
       "      <td>NaT</td>\n",
       "      <td>785.0</td>\n",
       "      <td>0.0</td>\n",
       "      <td>0.0</td>\n",
       "      <td>0.0</td>\n",
       "    </tr>\n",
       "  </tbody>\n",
       "</table>\n",
       "<p>935 rows × 9 columns</p>\n",
       "</div>"
      ],
      "text/plain": [
       "                                  actionID   action          started_at  week  \\\n",
       "37    00facaaa-b571-4ba1-b9d8-f3e5ad78d94f   DELETE                 NaT   NaN   \n",
       "55    0174104b-ba8e-41eb-a1e1-7defa60ad3b1   IMPORT 2019-06-05 16:15:00  23.0   \n",
       "75    025747c6-16cc-4101-9456-0c3ad8412d84   IMPORT 2019-07-05 13:09:00  27.0   \n",
       "81    0282cb45-a71a-445f-82ac-766637f143c8  APPROVE                 NaT   NaN   \n",
       "86    029a3fd3-e2d3-4b66-9e64-bd08f5c0ece6   CREATE                 NaT   NaN   \n",
       "...                                    ...      ...                 ...   ...   \n",
       "9910  fe8c6bd0-6e5c-4861-ad89-19f2f5df4de4   SEARCH                 NaT   NaN   \n",
       "9916  fea836f9-4d24-41ab-a696-ee06b1ac92f3  APPROVE 2019-10-14 08:26:00  42.0   \n",
       "9925  fedf7a72-6504-4a1c-a9be-ccced3850b2c   SEARCH 2019-06-15 12:17:00  24.0   \n",
       "9930  fef88e3a-5e8a-48f8-8380-3daa888666eb   CREATE                 NaT   NaN   \n",
       "9939  ff4bc885-4bb8-4103-a5d8-dc11a3bd9a35   UPDATE 2019-12-26 14:26:00  52.0   \n",
       "\n",
       "     duration  num_records  num_success  num_failed  num_warning  \n",
       "37        NaT          0.0        474.0       187.0        124.0  \n",
       "55        NaT        967.0          0.0         0.0          0.0  \n",
       "75        NaT         55.0          0.0         0.0          0.0  \n",
       "81        NaT          0.0        485.0       124.0        213.0  \n",
       "86        NaT          0.0        221.0        64.0        190.0  \n",
       "...       ...          ...          ...         ...          ...  \n",
       "9910      NaT          0.0          0.0         0.0          0.0  \n",
       "9916      NaT        276.0          0.0         0.0          0.0  \n",
       "9925      NaT          0.0          0.0         0.0          0.0  \n",
       "9930      NaT          0.0         54.0       307.0        137.0  \n",
       "9939      NaT        785.0          0.0         0.0          0.0  \n",
       "\n",
       "[935 rows x 9 columns]"
      ]
     },
     "execution_count": 5,
     "metadata": {},
     "output_type": "execute_result"
    }
   ],
   "source": [
    "user_actions[user_actions.isnull().any(axis=1)]"
   ]
  },
  {
   "cell_type": "code",
   "execution_count": 6,
   "metadata": {},
   "outputs": [
    {
     "data": {
      "text/plain": [
       "actionID       935\n",
       "action         935\n",
       "started_at     474\n",
       "week           474\n",
       "duration         0\n",
       "num_records    935\n",
       "num_success    935\n",
       "num_failed     935\n",
       "num_warning    935\n",
       "dtype: int64"
      ]
     },
     "execution_count": 6,
     "metadata": {},
     "output_type": "execute_result"
    }
   ],
   "source": [
    "user_actions[user_actions.isnull().any(axis=1)].count()"
   ]
  },
  {
   "cell_type": "code",
   "execution_count": 7,
   "metadata": {},
   "outputs": [],
   "source": [
    "user_actions.drop((user_actions[user_actions.isnull().any(axis=1)]).index, inplace=True)"
   ]
  },
  {
   "cell_type": "markdown",
   "metadata": {},
   "source": [
    "# TASK"
   ]
  },
  {
   "cell_type": "markdown",
   "metadata": {},
   "source": [
    "## Percentage of operations (pie chart)"
   ]
  },
  {
   "cell_type": "code",
   "execution_count": 8,
   "metadata": {},
   "outputs": [
    {
     "data": {
      "image/png": "[encoded data removed]",
      "text/plain": [
       "<Figure size 432x288 with 1 Axes>"
      ]
     },
     "metadata": {},
     "output_type": "display_data"
    }
   ],
   "source": [
    "actions = user_actions.groupby('action').size()\n",
    "\n",
    "fig, ax = plt.subplots()\n",
    "ax.pie(actions, labels=actions.index, autopct='%.0f%%', shadow=True, radius=0.5)\n",
    "ax.axis('equal')\n",
    "plt.show()"
   ]
  },
  {
   "cell_type": "markdown",
   "metadata": {},
   "source": [
    "## The total number of operations by weeks"
   ]
  },
  {
   "cell_type": "code",
   "execution_count": 9,
   "metadata": {},
   "outputs": [
    {
     "data": {
      "text/plain": [
       "Text(0, 0.5, 'num_actions')"
      ]
     },
     "execution_count": 9,
     "metadata": {},
     "output_type": "execute_result"
    },
    {
     "data": {
      "image/png": "[encoded data removed]",
      "text/plain": [
       "<Figure size 1440x360 with 1 Axes>"
      ]
     },
     "metadata": {
      "needs_background": "light"
     },
     "output_type": "display_data"
    }
   ],
   "source": [
    "ax = user_actions.groupby('week').size()\\\n",
    "                .plot(x='createdDateTime_start', kind='bar', legend=False, figsize=(20,5))\n",
    "ax.set_xlabel(\"weeks\")\n",
    "ax.set_ylabel(\"num_actions\")"
   ]
  },
  {
   "cell_type": "markdown",
   "metadata": {},
   "source": [
    "## Top 10 most lengthy searching operations indicating time spent"
   ]
  },
  {
   "cell_type": "code",
   "execution_count": 10,
   "metadata": {},
   "outputs": [
    {
     "data": {
      "text/html": [
       "<div>\n",
       "<style scoped>\n",
       "    .dataframe tbody tr th:only-of-type {\n",
       "        vertical-align: middle;\n",
       "    }\n",
       "\n",
       "    .dataframe tbody tr th {\n",
       "        vertical-align: top;\n",
       "    }\n",
       "\n",
       "    .dataframe thead th {\n",
       "        text-align: right;\n",
       "    }\n",
       "</style>\n",
       "<table border=\"1\" class=\"dataframe\">\n",
       "  <thead>\n",
       "    <tr style=\"text-align: right;\">\n",
       "      <th></th>\n",
       "      <th>actionID</th>\n",
       "      <th>action</th>\n",
       "      <th>duration</th>\n",
       "    </tr>\n",
       "  </thead>\n",
       "  <tbody>\n",
       "    <tr>\n",
       "      <th>6258</th>\n",
       "      <td>9e63c4d8-2764-465e-ab8a-83446f94240e</td>\n",
       "      <td>SEARCH</td>\n",
       "      <td>00:16:23</td>\n",
       "    </tr>\n",
       "    <tr>\n",
       "      <th>3312</th>\n",
       "      <td>5497fc04-9b2e-4a92-a947-0b45511b3f73</td>\n",
       "      <td>SEARCH</td>\n",
       "      <td>00:16:20</td>\n",
       "    </tr>\n",
       "    <tr>\n",
       "      <th>5616</th>\n",
       "      <td>8e39d016-95b4-4008-82e3-bd42a9ae2c36</td>\n",
       "      <td>SEARCH</td>\n",
       "      <td>00:16:19</td>\n",
       "    </tr>\n",
       "    <tr>\n",
       "      <th>906</th>\n",
       "      <td>175c84ff-51ba-487b-90f9-89f9cc429b51</td>\n",
       "      <td>SEARCH</td>\n",
       "      <td>00:16:16</td>\n",
       "    </tr>\n",
       "    <tr>\n",
       "      <th>1060</th>\n",
       "      <td>1b8aa553-979c-47ec-80aa-c4622140b3ef</td>\n",
       "      <td>SEARCH</td>\n",
       "      <td>00:15:55</td>\n",
       "    </tr>\n",
       "    <tr>\n",
       "      <th>3509</th>\n",
       "      <td>59b622bb-7e9b-4219-9bc3-1f262af0d1c6</td>\n",
       "      <td>SEARCH</td>\n",
       "      <td>00:15:54</td>\n",
       "    </tr>\n",
       "    <tr>\n",
       "      <th>4811</th>\n",
       "      <td>79c1f320-41e7-4b5a-bf8a-bf266b5e0f53</td>\n",
       "      <td>SEARCH</td>\n",
       "      <td>00:15:42</td>\n",
       "    </tr>\n",
       "    <tr>\n",
       "      <th>4235</th>\n",
       "      <td>6b89eb63-b998-4cc7-8cf4-b7cfea678171</td>\n",
       "      <td>SEARCH</td>\n",
       "      <td>00:15:36</td>\n",
       "    </tr>\n",
       "    <tr>\n",
       "      <th>1295</th>\n",
       "      <td>21248776-e024-431d-ae54-8aab2fc85a53</td>\n",
       "      <td>SEARCH</td>\n",
       "      <td>00:15:34</td>\n",
       "    </tr>\n",
       "    <tr>\n",
       "      <th>1320</th>\n",
       "      <td>21d24895-dcf7-4d77-a95a-8fa4bbe6b21a</td>\n",
       "      <td>SEARCH</td>\n",
       "      <td>00:15:33</td>\n",
       "    </tr>\n",
       "  </tbody>\n",
       "</table>\n",
       "</div>"
      ],
      "text/plain": [
       "                                  actionID  action duration\n",
       "6258  9e63c4d8-2764-465e-ab8a-83446f94240e  SEARCH 00:16:23\n",
       "3312  5497fc04-9b2e-4a92-a947-0b45511b3f73  SEARCH 00:16:20\n",
       "5616  8e39d016-95b4-4008-82e3-bd42a9ae2c36  SEARCH 00:16:19\n",
       "906   175c84ff-51ba-487b-90f9-89f9cc429b51  SEARCH 00:16:16\n",
       "1060  1b8aa553-979c-47ec-80aa-c4622140b3ef  SEARCH 00:15:55\n",
       "3509  59b622bb-7e9b-4219-9bc3-1f262af0d1c6  SEARCH 00:15:54\n",
       "4811  79c1f320-41e7-4b5a-bf8a-bf266b5e0f53  SEARCH 00:15:42\n",
       "4235  6b89eb63-b998-4cc7-8cf4-b7cfea678171  SEARCH 00:15:36\n",
       "1295  21248776-e024-431d-ae54-8aab2fc85a53  SEARCH 00:15:34\n",
       "1320  21d24895-dcf7-4d77-a95a-8fa4bbe6b21a  SEARCH 00:15:33"
      ]
     },
     "execution_count": 10,
     "metadata": {},
     "output_type": "execute_result"
    }
   ],
   "source": [
    "user_actions[user_actions['action']\\\n",
    "            .apply(lambda x: x == 'SEARCH')][['actionID', 'action', 'duration']]\\\n",
    "            .sort_values(['duration'], ascending=False)[:10]"
   ]
  },
  {
   "cell_type": "code",
   "execution_count": 11,
   "metadata": {},
   "outputs": [],
   "source": [
    "not_srch_act = user_actions.drop(\n",
    "    user_actions[user_actions['action'].apply(lambda x: x == 'SEARCH')].index)"
   ]
  },
  {
   "cell_type": "markdown",
   "metadata": {},
   "source": [
    "## A histogram of input data for each operation"
   ]
  },
  {
   "cell_type": "code",
   "execution_count": 12,
   "metadata": {
    "scrolled": false
   },
   "outputs": [
    {
     "data": {
      "image/png": "[encoded data removed]",
      "text/plain": [
       "<Figure size 2000x2000 with 5 Axes>"
      ]
     },
     "metadata": {
      "needs_background": "light"
     },
     "output_type": "display_data"
    }
   ],
   "source": [
    "_, axes = plt.subplots(5, 1, figsize=(20,20), dpi=100, sharex=True, sharey=True)\n",
    "colors = ['tab:red', 'tab:blue', 'tab:green', 'tab:pink', 'tab:olive']\n",
    "\n",
    "for i, (ax, action) in enumerate(zip(axes.flatten(), not_srch_act.action.unique())):\n",
    "    y = not_srch_act.loc[not_srch_act.action==action, 'num_records']\n",
    "    x = not_srch_act.loc[not_srch_act.action==action, 'started_at']\n",
    "    ax.bar(x=x, height=y, alpha=1, color=colors[i])\n",
    "    ax.set_xticklabels([])\n",
    "    ax.set_title(action) \n",
    "    \n",
    "plt.suptitle('Number of input data for each operation', y=0.93, size=16)\n",
    "plt.show()"
   ]
  },
  {
   "cell_type": "markdown",
   "metadata": {},
   "source": [
    "## Graph of the number of successful, conditionally successful (warning) and unsuccessful results"
   ]
  },
  {
   "cell_type": "code",
   "execution_count": null,
   "metadata": {},
   "outputs": [],
   "source": [
    "_, axes = plt.subplots(5, 1, figsize=(20,30), dpi=100)\n",
    "rc('ytick', labelsize=16)\n",
    "\n",
    "for i, (ax, action) in enumerate(zip(axes.flatten(), not_srch_act.action.unique())):\n",
    "    datetime = not_srch_act.loc[not_srch_act.action==action, 'started_at']\n",
    "    success = not_srch_act.loc[not_srch_act.action==action, 'num_success']\n",
    "    warning = not_srch_act.loc[not_srch_act.action==action, 'num_warning']\n",
    "    failed = not_srch_act.loc[not_srch_act.action==action, 'num_failed']\n",
    "    ax.bar(x=datetime, height=success, color='g')\n",
    "    ax.bar(x=datetime, height=warning, color='y')\n",
    "    ax.bar(x=datetime, height=failed, color='r')\n",
    "    ax.legend(('success', 'warning', 'failed'), prop={'size': 16})\n",
    "    ax.set_ylabel('num_results', fontsize=16)\n",
    "    ax.set_xticklabels([])\n",
    "    ax.set_title(action) \n",
    "\n",
    "plt.suptitle('Successful, conditionally successful (warning) and unsuccessful results', y=0.9, size=16)\n",
    "plt.show()\n"
   ]
  },
  {
   "cell_type": "markdown",
   "metadata": {},
   "source": [
    "## Dependence of the time spent on the amount of input data"
   ]
  },
  {
   "cell_type": "code",
   "execution_count": null,
   "metadata": {},
   "outputs": [],
   "source": [
    "_, ax = plt.subplots(figsize=(20,15))\n",
    "colors = ['tab:red', 'tab:blue', 'tab:green', 'tab:pink', 'tab:olive']\n",
    "\n",
    "def timeTicks(x, pos):                                                                                                                                                                                                                                                                                                                                                                                                                                                                                                 \n",
    "    return str(timedelta(seconds=x))                                                                                                                                                                                                                                                              \n",
    "\n",
    "\n",
    "for i, action in enumerate(not_srch_act.action.unique()):\n",
    "    x = not_srch_act.loc[not_srch_act.action==action, 'duration'].astype('timedelta64[s]')\n",
    "    y = not_srch_act.loc[not_srch_act.action==action, 'num_records']\n",
    "    ax.scatter(x, y, alpha=0.5, label=str(action), color=colors[i])\n",
    "    formatter = FuncFormatter(timeTicks)                                                                                                                                                                                                                         \n",
    "    ax.xaxis.set_major_formatter(formatter)   \n",
    "    \n",
    "ax.legend()\n",
    "plt.suptitle('Number of input data for each operation', y=0.93, size=16)\n"
   ]
  },
  {
   "cell_type": "code",
   "execution_count": null,
   "metadata": {},
   "outputs": [],
   "source": []
  },
  {
   "cell_type": "code",
   "execution_count": null,
   "metadata": {},
   "outputs": [],
   "source": []
  }
 ],
 "metadata": {
  "kernelspec": {
   "display_name": "Python 3",
   "language": "python",
   "name": "python3"
  },
  "language_info": {
   "codemirror_mode": {
    "name": "ipython",
    "version": 3
   },
   "file_extension": ".py",
   "mimetype": "text/x-python",
   "name": "python",
   "nbconvert_exporter": "python",
   "pygments_lexer": "ipython3",
   "version": "3.7.4"
  }
 },
 "nbformat": 4,
 "nbformat_minor": 4
}
